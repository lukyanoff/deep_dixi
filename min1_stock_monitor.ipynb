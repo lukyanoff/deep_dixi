{
 "cells": [
  {
   "cell_type": "code",
   "execution_count": 33,
   "metadata": {
    "collapsed": true
   },
   "outputs": [
    {
     "name": "stdout",
     "output_type": "stream",
     "text": [
      "Begin init\n",
      "The autoreload extension is already loaded. To reload it, use:\n",
      "  %reload_ext autoreload\n"
     ]
    },
    {
     "data": {
      "text/plain": "<IPython.core.display.HTML object>",
      "text/html": "<style>.container { width:100% !important; }</style>"
     },
     "metadata": {},
     "output_type": "display_data"
    },
    {
     "name": "stdout",
     "output_type": "stream",
     "text": [
      "Loading modules complete 2021-05-07 13:01:47.714258\n"
     ]
    }
   ],
   "source": [
    "import matplotlib.pyplot as plt\n",
    "\n",
    "\n",
    "\n",
    "print(\"Begin init\")\n",
    "%run -i notebook/init_notebook.ipynb\n",
    "\n",
    "\n",
    "import pandas as pd\n",
    "import numpy as np\n",
    "\n",
    "from structlog import get_logger\n",
    "from tqdm import tqdm\n",
    "\n",
    "\n",
    "from src.model.StockModel import StockModel\n",
    "from src.repository.FileOhlcRepository import FileOhlcRepository\n",
    "from src.repository.SymbolRepository import SymbolRepository\n",
    "from src.scrapper.YahooScrapper import YahooScrapper\n",
    "from datetime import datetime, timedelta\n",
    "print(\"Loading modules complete\", datetime.now())"
   ]
  },
  {
   "cell_type": "code",
   "execution_count": 34,
   "outputs": [
    {
     "data": {
      "text/plain": "                low         close          open          high        volume\ncount  75406.000000  75406.000000  75406.000000  75406.000000  7.540600e+04\nmean     222.795352    222.898161    222.898428    222.999701  3.104025e+09\nstd       15.830188     15.823068     15.822772     15.815738  8.562049e+10\nmin      196.380000    196.470000    196.455000    196.670000  1.420000e+02\n25%      210.921250    211.045250    211.050000    211.150000  3.107000e+04\n50%      216.920000    217.029500    217.030000    217.125000  4.727600e+04\n75%      233.731500    233.850000    233.860000    233.960000  7.585350e+04\nmax      262.950000    263.180000    263.190000    263.190000  5.425764e+12",
      "text/html": "<div>\n<style scoped>\n    .dataframe tbody tr th:only-of-type {\n        vertical-align: middle;\n    }\n\n    .dataframe tbody tr th {\n        vertical-align: top;\n    }\n\n    .dataframe thead th {\n        text-align: right;\n    }\n</style>\n<table border=\"1\" class=\"dataframe\">\n  <thead>\n    <tr style=\"text-align: right;\">\n      <th></th>\n      <th>low</th>\n      <th>close</th>\n      <th>open</th>\n      <th>high</th>\n      <th>volume</th>\n    </tr>\n  </thead>\n  <tbody>\n    <tr>\n      <th>count</th>\n      <td>75406.000000</td>\n      <td>75406.000000</td>\n      <td>75406.000000</td>\n      <td>75406.000000</td>\n      <td>7.540600e+04</td>\n    </tr>\n    <tr>\n      <th>mean</th>\n      <td>222.795352</td>\n      <td>222.898161</td>\n      <td>222.898428</td>\n      <td>222.999701</td>\n      <td>3.104025e+09</td>\n    </tr>\n    <tr>\n      <th>std</th>\n      <td>15.830188</td>\n      <td>15.823068</td>\n      <td>15.822772</td>\n      <td>15.815738</td>\n      <td>8.562049e+10</td>\n    </tr>\n    <tr>\n      <th>min</th>\n      <td>196.380000</td>\n      <td>196.470000</td>\n      <td>196.455000</td>\n      <td>196.670000</td>\n      <td>1.420000e+02</td>\n    </tr>\n    <tr>\n      <th>25%</th>\n      <td>210.921250</td>\n      <td>211.045250</td>\n      <td>211.050000</td>\n      <td>211.150000</td>\n      <td>3.107000e+04</td>\n    </tr>\n    <tr>\n      <th>50%</th>\n      <td>216.920000</td>\n      <td>217.029500</td>\n      <td>217.030000</td>\n      <td>217.125000</td>\n      <td>4.727600e+04</td>\n    </tr>\n    <tr>\n      <th>75%</th>\n      <td>233.731500</td>\n      <td>233.850000</td>\n      <td>233.860000</td>\n      <td>233.960000</td>\n      <td>7.585350e+04</td>\n    </tr>\n    <tr>\n      <th>max</th>\n      <td>262.950000</td>\n      <td>263.180000</td>\n      <td>263.190000</td>\n      <td>263.190000</td>\n      <td>5.425764e+12</td>\n    </tr>\n  </tbody>\n</table>\n</div>"
     },
     "execution_count": 34,
     "metadata": {},
     "output_type": "execute_result"
    }
   ],
   "source": [
    "def _get_1min_data(symbol):\n",
    "    from structlog import get_logger\n",
    "    logger = get_logger()\n",
    "    stop_date = datetime.utcnow()\n",
    "    start_date = stop_date - timedelta(days=365)\n",
    "    ohlc_repository = FileOhlcRepository(\"./_data/\", logger)\n",
    "    df_original = ohlc_repository.read_data(\"yahoo\", symbol, start_date, stop_date)\n",
    "\n",
    "    df_original = df_original[df_original['volume'] > 0]\n",
    "    return df_original\n",
    "\n",
    "\n",
    "stock = StockModel.parse(\"NASDAQ:MSFT\")\n",
    "min1_df = _get_1min_data(stock)\n",
    "min1_df.describe()"
   ],
   "metadata": {
    "collapsed": false,
    "pycharm": {
     "name": "#%%\n"
    }
   }
  },
  {
   "cell_type": "code",
   "execution_count": 47,
   "outputs": [],
   "source": [
    "import src.calulation.utils as ta_utils\n",
    "\n",
    "from src.calulation.indicator_builder import build_indicatrors\n",
    "from dataset_generator import get_inidicators\n",
    "\n",
    "indicators = get_inidicators()"
   ],
   "metadata": {
    "collapsed": false,
    "pycharm": {
     "name": "#%%\n"
    }
   }
  },
  {
   "cell_type": "code",
   "execution_count": 83,
   "outputs": [
    {
     "name": "stdout",
     "output_type": "stream",
     "text": [
      "ppo(row:'close', fast:5, slow:2048, k:5)\n"
     ]
    },
    {
     "data": {
      "text/plain": "<Figure size 432x288 with 1 Axes>",
      "image/png": "[encoded data removed]"
     },
     "metadata": {
      "needs_background": "light"
     },
     "output_type": "display_data"
    },
    {
     "name": "stdout",
     "output_type": "stream",
     "text": [
      "Min:-4.06771\n",
      "Max:4.06771\n",
      "\n",
      "mean 0.8493732787076969\n",
      "75% 1.16201\n",
      "80% 1.3345000000000002\n",
      "90% 4.06771\n",
      "99% 4.06771\n",
      "****************************************************************************************************\n",
      "ppo_smooth(row:'close', fast:5, slow:2048, k:5)\n"
     ]
    },
    {
     "data": {
      "text/plain": "<Figure size 432x288 with 1 Axes>",
      "image/png": "[encoded data removed]"
     },
     "metadata": {
      "needs_background": "light"
     },
     "output_type": "display_data"
    },
    {
     "name": "stdout",
     "output_type": "stream",
     "text": [
      "Min:-4.1491\n",
      "Max:4.3508\n",
      "\n",
      "mean 0.8499819380162268\n",
      "75% 1.16109\n",
      "80% 1.3363920000000007\n",
      "90% 4.0658772\n",
      "99% 4.0658772\n",
      "****************************************************************************************************\n",
      "ppo_hist(row:'close', fast:5, slow:2048, k:5)\n"
     ]
    },
    {
     "data": {
      "text/plain": "<Figure size 432x288 with 1 Axes>",
      "image/png": "[encoded data removed]"
     },
     "metadata": {
      "needs_background": "light"
     },
     "output_type": "display_data"
    },
    {
     "name": "stdout",
     "output_type": "stream",
     "text": [
      "Min:-3.55137\n",
      "Max:3.55137\n",
      "\n",
      "mean 1.1189647274322052\n",
      "75% 1.57445\n",
      "80% 1.7194580000000002\n",
      "90% 3.2445220000000012\n",
      "99% 3.2445220000000012\n",
      "****************************************************************************************************\n"
     ]
    }
   ],
   "source": [
    "df = min1_df.copy()\n",
    "basic_price = df.iloc[0].low\n",
    "basic_volume = df.volume.min()\n",
    "ta_utils.normilize_data_(df, basic_price, basic_volume)\n",
    "\n",
    "min1_df_with_indicators = build_indicatrors(df, indicators)\n",
    "min1_df_with_indicators = min1_df_with_indicators.iloc[7000:-1] # drop warmup\n",
    "\n",
    "min1_df_with_indicators = min1_df_with_indicators.round(5)\n",
    "\n",
    "# print(min1_df_with_indicators.iloc[-1].to_dict())\n",
    "raw_columns = {'date', 'low', 'close', 'high', 'open', 'volume'}\n",
    "for col in min1_df_with_indicators.columns:\n",
    "    if col in raw_columns:\n",
    "        continue\n",
    "\n",
    "    print(f\"{col}\")\n",
    "    plt.title(col)\n",
    "    min1_df_with_indicators[col].hist(bins=100)\n",
    "    plt.show()\n",
    "    print(f\"Min:{min1_df_with_indicators[col].min()}\")\n",
    "    print(f\"Max:{min1_df_with_indicators[col].max()}\")\n",
    "    abs = np.abs(min1_df_with_indicators[col])\n",
    "    print()\n",
    "    print(\"mean\", np.mean(abs))\n",
    "    print(\"75%\", np.percentile(abs, 75))\n",
    "    print(\"80%\", np.percentile(abs, 80))\n",
    "    print(\"90%\", np.percentile(abs, 99))\n",
    "    print(\"99%\", np.percentile(abs, 99))\n",
    "    print(\"*\"*100)"
   ],
   "metadata": {
    "collapsed": false,
    "pycharm": {
     "name": "#%%\n"
    }
   }
  },
  {
   "cell_type": "code",
   "execution_count": null,
   "outputs": [],
   "source": [
    "min1_df_with_indicators['profit'], min1_df_with_indicators['loss'] = ta_utils.get_long_profit_and_loss(min1_df_with_indicators, l=15)"
   ],
   "metadata": {
    "collapsed": false,
    "pycharm": {
     "name": "#%%\n"
    }
   }
  },
  {
   "cell_type": "code",
   "execution_count": null,
   "outputs": [],
   "source": [
    "min1_df_with_indicators['profit'].hist(bins=100)\n",
    "plt.show()\n",
    "\n",
    "min1_df_with_indicators['loss'].hist(bins=100)\n",
    "plt.show()"
   ],
   "metadata": {
    "collapsed": false,
    "pycharm": {
     "name": "#%%\n"
    }
   }
  },
  {
   "cell_type": "code",
   "execution_count": null,
   "outputs": [],
   "source": [
    "positive = min1_df_with_indicators[min1_df_with_indicators['profit']>0.25/100]\n",
    "print(100*len(positive)/len(min1_df_with_indicators))\n",
    "\n",
    "positive = min1_df_with_indicators[min1_df_with_indicators['loss']>0.5/100]\n",
    "print(100*len(positive)/len(min1_df_with_indicators))"
   ],
   "metadata": {
    "collapsed": false,
    "pycharm": {
     "name": "#%%\n"
    }
   }
  },
  {
   "cell_type": "code",
   "execution_count": 84,
   "outputs": [
    {
     "name": "stderr",
     "output_type": "stream",
     "text": [
      "0it [00:00, ?it/s]"
     ]
    },
    {
     "name": "stdout",
     "output_type": "stream",
     "text": [
      "Load 75406 items\n"
     ]
    },
    {
     "name": "stderr",
     "output_type": "stream",
     "text": [
      "197934it [02:14, 1472.65it/s]\n"
     ]
    },
    {
     "name": "stdout",
     "output_type": "stream",
     "text": [
      "DONE  197934\n"
     ]
    }
   ],
   "source": [
    "from dataset_generator import generate_sliced_data_set_v1\n",
    "\n",
    "data = list(tqdm(generate_sliced_data_set_v1(stock)))\n",
    "print(\"DONE \", len(data))"
   ],
   "metadata": {
    "collapsed": false,
    "pycharm": {
     "name": "#%%\n"
    }
   }
  },
  {
   "cell_type": "code",
   "execution_count": 85,
   "outputs": [
    {
     "data": {
      "text/plain": "{'date': Timestamp('2020-08-06 16:35:00'),\n 'low': 1.0789327122677332,\n 'close': 1.079312439876462,\n 'open': 1.0791352336590552,\n 'high': 1.0795402764416993,\n 'volume': 4.132486765936335,\n 'profit': 0.0017591180954614751,\n 'loss': 0.00016418435557652168,\n 'vortex_positive(n:14)': 0.3186528497409127,\n 'vortex_negative(n:14)': 0.6468048359239797,\n 'vortex_positive(n:24)': 0.5057208237986015,\n 'vortex_negative(n:24)': 0.4637681159420072,\n 'vortex_positive(n:32)': 0.5348967057509686,\n 'vortex_negative(n:32)': 0.45951982132886315,\n 'rsi(n:14, smooth:8)': 0.4955648540394396,\n 'rsi_smooth(n:14, smooth:8)': 0.4500526611532435,\n 'rsi_hist(n:14, smooth:8)': 2.4728046846965546,\n 'rsi(n:24, smooth:8)': 0.497409766500917,\n 'rsi_smooth(n:24, smooth:8)': 0.4740086818105631,\n 'rsi_hist(n:24, smooth:8)': 1.739894954555158,\n 'rsi(n:32, smooth:5)': 0.49980977318645065,\n 'rsi_smooth(n:32, smooth:5)': 0.49597198322727243,\n 'rsi_hist(n:32, smooth:5)': 0.46861354777724457,\n \"BB_STDDEV(col:'close', n:14)\": 0.03850570489040408,\n \"BB_%(col:'close', n:14)\": 0.2599746930972363,\n \"BB_STDDEV(col:'close', n:24)\": 0.03850570489040408,\n \"BB_%(col:'close', n:24)\": 0.2599746930972363,\n \"BB_STDDEV(col:'close', n:32)\": 0.03850570489040408,\n \"BB_%(col:'close', n:32)\": 0.2599746930972363,\n \"ppo(row:'close', fast:5, slow:12, k:5)\": 0.042286667686094306,\n \"ppo_smooth(row:'close', fast:5, slow:12, k:5)\": 0.04323686931522616,\n \"ppo_hist(row:'close', fast:5, slow:12, k:5)\": -0.13095743481918806,\n \"ppo(row:'close', fast:5, slow:24, k:5)\": 0.011320354933427227,\n \"ppo_smooth(row:'close', fast:5, slow:24, k:5)\": 0.007464720800200518,\n \"ppo_hist(row:'close', fast:5, slow:24, k:5)\": 0.47047274040618076,\n \"ppo(row:'close', fast:12, slow:24, k:5)\": -0.030953223665837377,\n \"ppo_smooth(row:'close', fast:12, slow:24, k:5)\": -0.03575658095722845,\n \"ppo_hist(row:'close', fast:12, slow:24, k:5)\": 0.5659244054730695,\n \"ppo(row:'close', fast:5, slow:32, k:5)\": -0.002116219530741475,\n \"ppo_smooth(row:'close', fast:5, slow:32, k:5)\": -0.00821203611545901,\n \"ppo_hist(row:'close', fast:5, slow:32, k:5)\": 0.686685770530302,\n \"ppo(row:'close', fast:12, slow:32, k:5)\": -0.044384118652075984,\n \"ppo_smooth(row:'close', fast:12, slow:32, k:5)\": -0.05142821699704787,\n \"ppo_hist(row:'close', fast:12, slow:32, k:5)\": 0.7692722810475624,\n \"ppo(row:'close', fast:24, slow:32, k:5)\": -0.01343505356841926,\n \"ppo_smooth(row:'close', fast:24, slow:32, k:5)\": -0.015677831833574785,\n \"ppo_hist(row:'close', fast:24, slow:32, k:5)\": 0.29193098732277545,\n \"ppo(row:'close', fast:5, slow:64, k:5)\": -0.008897140049091938,\n \"ppo_smooth(row:'close', fast:5, slow:64, k:5)\": -0.01879776116539894,\n \"ppo_hist(row:'close', fast:5, slow:64, k:5)\": 0.9928134592830964,\n \"ppo(row:'close', fast:12, slow:64, k:5)\": -0.051162172957126884,\n \"ppo_smooth(row:'close', fast:12, slow:64, k:5)\": -0.06201264334803035,\n \"ppo_hist(row:'close', fast:12, slow:64, k:5)\": 1.0600799315341416,\n \"ppo(row:'close', fast:24, slow:64, k:5)\": -0.02021520654938725,\n \"ppo_smooth(row:'close', fast:24, slow:64, k:5)\": -0.026266588486502596,\n \"ppo_hist(row:'close', fast:24, slow:64, k:5)\": 0.6826975109299261,\n \"ppo(row:'close', fast:32, slow:64, k:5)\": -0.006781064020551658,\n \"ppo_smooth(row:'close', fast:32, slow:64, k:5)\": -0.010589683114692622,\n \"ppo_hist(row:'close', fast:32, slow:64, k:5)\": 0.46556905271356575,\n \"ppo(row:'close', fast:5, slow:128, k:5)\": -0.05639039897696365,\n \"ppo_smooth(row:'close', fast:5, slow:128, k:5)\": -0.0681125051944247,\n \"ppo_hist(row:'close', fast:5, slow:128, k:5)\": 1.119163996427985,\n \"ppo(row:'close', fast:12, slow:128, k:5)\": -0.0986353570573981,\n \"ppo_smooth(row:'close', fast:12, slow:128, k:5)\": -0.11130757551473315,\n \"ppo_hist(row:'close', fast:12, slow:128, k:5)\": 1.180925564471054,\n \"ppo(row:'close', fast:24, slow:128, k:5)\": -0.06770308968033817,\n \"ppo_smooth(row:'close', fast:24, slow:128, k:5)\": -0.07557923866254021,\n \"ppo_hist(row:'close', fast:24, slow:128, k:5)\": 0.8380359735079242,\n \"ppo(row:'close', fast:32, slow:128, k:5)\": -0.054275328031314345,\n \"ppo_smooth(row:'close', fast:32, slow:128, k:5)\": -0.05990965013461379,\n \"ppo_hist(row:'close', fast:32, slow:128, k:5)\": 0.644716666054729,\n \"ppo(row:'close', fast:64, slow:128, k:5)\": -0.04749748484561822,\n \"ppo_smooth(row:'close', fast:64, slow:128, k:5)\": -0.04932448647049509,\n \"ppo_hist(row:'close', fast:64, slow:128, k:5)\": 0.24208436875764233,\n \"ppo(row:'close', fast:5, slow:256, k:5)\": -0.029845443095461024,\n \"ppo_smooth(row:'close', fast:5, slow:256, k:5)\": -0.04242662996796426,\n \"ppo_hist(row:'close', fast:5, slow:256, k:5)\": 1.1751213164950804,\n \"ppo(row:'close', fast:12, slow:256, k:5)\": -0.07210162140851403,\n \"ppo_smooth(row:'close', fast:12, slow:256, k:5)\": -0.08563402603171145,\n \"ppo_hist(row:'close', fast:12, slow:256, k:5)\": 1.2346487477067825,\n \"ppo(row:'close', fast:24, slow:256, k:5)\": -0.041161138441921985,\n \"ppo_smooth(row:'close', fast:24, slow:256, k:5)\": -0.049896716115381774,\n \"ppo_hist(row:'close', fast:24, slow:256, k:5)\": 0.9057804609222898,\n \"ppo(row:'close', fast:32, slow:256, k:5)\": -0.02772981038838283,\n \"ppo_smooth(row:'close', fast:32, slow:256, k:5)\": -0.034222818535907876,\n \"ppo_hist(row:'close', fast:32, slow:256, k:5)\": 0.7218545548531562,\n \"ppo(row:'close', fast:64, slow:256, k:5)\": -0.02095016701206867,\n \"ppo_smooth(row:'close', fast:64, slow:256, k:5)\": -0.02363429418800929,\n \"ppo_hist(row:'close', fast:64, slow:256, k:5)\": 0.34302424764261485,\n \"ppo(row:'close', fast:128, slow:256, k:5)\": 0.026559933133764767,\n \"ppo_smooth(row:'close', fast:128, slow:256, k:5)\": 0.025703183279626292,\n \"ppo_hist(row:'close', fast:128, slow:256, k:5)\": 0.11859227339030079,\n \"ppo(row:'close', fast:5, slow:512, k:5)\": 0.12763407267221377,\n \"ppo_smooth(row:'close', fast:5, slow:512, k:5)\": 0.1146218411466374,\n \"ppo_hist(row:'close', fast:5, slow:512, k:5)\": 1.2024008903322072,\n \"ppo(row:'close', fast:12, slow:512, k:5)\": 0.08531132966764432,\n \"ppo_smooth(row:'close', fast:12, slow:512, k:5)\": 0.07134607144248728,\n \"ppo_hist(row:'close', fast:12, slow:512, k:5)\": 1.2609444850495704,\n \"ppo(row:'close', fast:24, slow:512, k:5)\": 0.11630055210349889,\n \"ppo_smooth(row:'close', fast:24, slow:512, k:5)\": 0.1071394858800333,\n \"ppo_hist(row:'close', fast:24, slow:512, k:5)\": 0.9381778425202153,\n \"ppo(row:'close', fast:32, slow:512, k:5)\": 0.12975303806208846,\n \"ppo_smooth(row:'close', fast:32, slow:512, k:5)\": 0.12283813941543234,\n \"ppo_hist(row:'close', fast:32, slow:512, k:5)\": 0.7582945325912764,\n \"ppo(row:'close', fast:64, slow:512, k:5)\": 0.13654336117537724,\n \"ppo_smooth(row:'close', fast:64, slow:512, k:5)\": 0.13344354900184974,\n \"ppo_hist(row:'close', fast:64, slow:512, k:5)\": 0.389546126399134,\n \"ppo(row:'close', fast:128, slow:512, k:5)\": 0.18412830233349278,\n \"ppo_smooth(row:'close', fast:128, slow:512, k:5)\": 0.18285865212242008,\n \"ppo_hist(row:'close', fast:128, slow:512, k:5)\": 0.17244273764125947,\n \"ppo(row:'close', fast:256, slow:512, k:5)\": 0.15752653025862337,\n \"ppo_smooth(row:'close', fast:256, slow:512, k:5)\": 0.1571151863338399,\n \"ppo_hist(row:'close', fast:256, slow:512, k:5)\": 0.05815630768416119,\n \"ppo(row:'close', fast:5, slow:1024, k:5)\": -0.18935501139190025,\n \"ppo_smooth(row:'close', fast:5, slow:1024, k:5)\": -0.20252698945704808,\n \"ppo_hist(row:'close', fast:5, slow:1024, k:5)\": 1.2123812044518314,\n \"ppo(row:'close', fast:12, slow:1024, k:5)\": -0.231543766934723,\n \"ppo_smooth(row:'close', fast:12, slow:1024, k:5)\": -0.2456653234377122,\n \"ppo_hist(row:'close', fast:12, slow:1024, k:5)\": 1.2703230037011795,\n \"ppo(row:'close', fast:24, slow:1024, k:5)\": -0.20065265173296798,\n \"ppo_smooth(row:'close', fast:24, slow:1024, k:5)\": -0.20998510437716753,\n \"ppo_hist(row:'close', fast:24, slow:1024, k:5)\": 0.9510246790991022,\n \"ppo(row:'close', fast:32, slow:1024, k:5)\": -0.18724275432889578,\n \"ppo_smooth(row:'close', fast:32, slow:1024, k:5)\": -0.19433620247038935,\n \"ppo_hist(row:'close', fast:32, slow:1024, k:5)\": 0.7734434511306141,\n \"ppo(row:'close', fast:64, slow:1024, k:5)\": -0.18047392836096665,\n \"ppo_smooth(row:'close', fast:64, slow:1024, k:5)\": -0.18376460941783293,\n \"ppo_hist(row:'close', fast:64, slow:1024, k:5)\": 0.410415034801328,\n \"ppo(row:'close', fast:128, slow:1024, k:5)\": -0.13303963399534405,\n \"ppo_smooth(row:'close', fast:128, slow:1024, k:5)\": -0.1345062036596945,\n \"ppo_hist(row:'close', fast:128, slow:1024, k:5)\": 0.1974338596696639,\n \"ppo(row:'close', fast:256, slow:1024, k:5)\": -0.1595571888464411,\n \"ppo_smooth(row:'close', fast:256, slow:1024, k:5)\": -0.1601681720784377,\n \"ppo_hist(row:'close', fast:256, slow:1024, k:5)\": 0.08555834505597613,\n \"ppo(row:'close', fast:512, slow:1024, k:5)\": -0.3165850137176363,\n \"ppo_smooth(row:'close', fast:512, slow:1024, k:5)\": -0.3167856778397594,\n \"ppo_hist(row:'close', fast:512, slow:1024, k:5)\": 0.028663083030409767,\n \"ppo(row:'close', fast:5, slow:2048, k:5)\": -0.9025775205544859,\n \"ppo_smooth(row:'close', fast:5, slow:2048, k:5)\": -0.9157538157888674,\n \"ppo_hist(row:'close', fast:5, slow:2048, k:5)\": 1.212649967804537,\n \"ppo(row:'close', fast:12, slow:2048, k:5)\": -0.9444648055468465,\n \"ppo_smooth(row:'close', fast:12, slow:2048, k:5)\": -0.9585841668567983,\n \"ppo_hist(row:'close', fast:12, slow:2048, k:5)\": 1.2701917046192093,\n \"ppo(row:'close', fast:24, slow:2048, k:5)\": -0.9137944307149943,\n \"ppo_smooth(row:'close', fast:24, slow:2048, k:5)\": -0.923159031315782,\n \"ppo_hist(row:'close', fast:24, slow:2048, k:5)\": 0.9534217457656854,\n \"ppo(row:'close', fast:32, slow:2048, k:5)\": -0.9004803571649332,\n \"ppo_smooth(row:'close', fast:32, slow:2048, k:5)\": -0.9076219090956142,\n \"ppo_hist(row:'close', fast:32, slow:2048, k:5)\": 0.7774977314656203,\n \"ppo(row:'close', fast:64, slow:2048, k:5)\": -0.8937598995753618,\n \"ppo_smooth(row:'close', fast:64, slow:2048, k:5)\": -0.8971256915396081,\n \"ppo_hist(row:'close', fast:64, slow:2048, k:5)\": 0.4185453242281868,\n \"ppo(row:'close', fast:128, slow:2048, k:5)\": -0.8466645591003956,\n \"ppo_smooth(row:'close', fast:128, slow:2048, k:5)\": -0.848219224150476,\n \"ppo_hist(row:'close', fast:128, slow:2048, k:5)\": 0.20847543915717473,\n \"ppo(row:'close', fast:256, slow:2048, k:5)\": -0.8729926259764382,\n \"ppo_smooth(row:'close', fast:256, slow:2048, k:5)\": -0.8736977338514297,\n \"ppo_hist(row:'close', fast:256, slow:2048, k:5)\": 0.09829933378330631,\n \"ppo(row:'close', fast:512, slow:2048, k:5)\": -1.028898368335535,\n \"ppo_smooth(row:'close', fast:512, slow:2048, k:5)\": -1.0291959061462834,\n \"ppo_hist(row:'close', fast:512, slow:2048, k:5)\": 0.04229942353843684,\n \"ppo(row:'close', fast:1024, slow:2048, k:5)\": -0.7145755938597426,\n \"ppo_smooth(row:'close', fast:1024, slow:2048, k:5)\": -0.7146742119748928,\n \"ppo_hist(row:'close', fast:1024, slow:2048, k:5)\": 0.014157889529803916}"
     },
     "execution_count": 85,
     "metadata": {},
     "output_type": "execute_result"
    }
   ],
   "source": [
    "data[100]"
   ],
   "metadata": {
    "collapsed": false,
    "pycharm": {
     "name": "#%%\n"
    }
   }
  },
  {
   "cell_type": "code",
   "execution_count": 87,
   "outputs": [
    {
     "name": "stdout",
     "output_type": "stream",
     "text": [
      "DONE\n"
     ]
    }
   ],
   "source": [
    "import torch\n",
    "\n",
    "torch.save(data, \"./_temp/MSFT.zip\")\n",
    "print(\"DONE\")"
   ],
   "metadata": {
    "collapsed": false,
    "pycharm": {
     "name": "#%%\n"
    }
   }
  },
  {
   "cell_type": "code",
   "execution_count": 89,
   "outputs": [
    {
     "name": "stdout",
     "output_type": "stream",
     "text": [
      "Loaded 197934\n"
     ]
    }
   ],
   "source": [
    "loaded_data = torch.load(\"./_temp/MSFT.zip\")\n",
    "print(f\"Loaded {len(loaded_data)}\")"
   ],
   "metadata": {
    "collapsed": false,
    "pycharm": {
     "name": "#%%\n"
    }
   }
  },
  {
   "cell_type": "code",
   "execution_count": 103,
   "outputs": [
    {
     "name": "stderr",
     "output_type": "stream",
     "text": [
      "100%|██████████| 197934/197934 [00:04<00:00, 46132.18it/s]"
     ]
    },
    {
     "name": "stdout",
     "output_type": "stream",
     "text": [
      "DONE\n"
     ]
    },
    {
     "name": "stderr",
     "output_type": "stream",
     "text": [
      "\n"
     ]
    }
   ],
   "source": [
    "keys = set(loaded_data[0].keys())\n",
    "raw = {\"close\", \"open\", \"date\", \"high\", \"loss\", \"low\", \"volume\", \"profit\"}\n",
    "x_keys = keys - raw\n",
    "\n",
    "from sklearn.preprocessing import StandardScaler\n",
    "for k in x_keys:\n",
    "\n",
    "\n",
    "all_x, all_y = [], []\n",
    "for i in tqdm(loaded_data):\n",
    "    x = [i.get(key) for key in keys]\n",
    "    y = i['profit'] > 0.5\n",
    "    all_x.append(x)\n",
    "    all_y.append(y)\n",
    "print(\"DONE\")\n"
   ],
   "metadata": {
    "collapsed": false,
    "pycharm": {
     "name": "#%%\n"
    }
   }
  },
  {
   "cell_type": "code",
   "execution_count": null,
   "outputs": [],
   "source": [],
   "metadata": {
    "collapsed": false,
    "pycharm": {
     "name": "#%%\n"
    }
   }
  }
 ],
 "metadata": {
  "kernelspec": {
   "display_name": "Python 3",
   "language": "python",
   "name": "python3"
  },
  "language_info": {
   "codemirror_mode": {
    "name": "ipython",
    "version": 2
   },
   "file_extension": ".py",
   "mimetype": "text/x-python",
   "name": "python",
   "nbconvert_exporter": "python",
   "pygments_lexer": "ipython2",
   "version": "2.7.6"
  }
 },
 "nbformat": 4,
 "nbformat_minor": 0
}