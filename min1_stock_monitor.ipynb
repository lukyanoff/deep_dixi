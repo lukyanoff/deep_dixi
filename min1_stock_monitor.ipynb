{
 "cells": [
  {
   "cell_type": "code",
   "execution_count": 1,
   "metadata": {
    "collapsed": true
   },
   "outputs": [
    {
     "name": "stdout",
     "output_type": "stream",
     "text": [
      "Begin init\n"
     ]
    },
    {
     "data": {
      "text/plain": "<IPython.core.display.HTML object>",
      "text/html": "<style>.container { width:100% !important; }</style>"
     },
     "metadata": {},
     "output_type": "display_data"
    },
    {
     "name": "stdout",
     "output_type": "stream",
     "text": [
      "Loading modules complete 2021-05-05 13:35:43.062971\n"
     ]
    }
   ],
   "source": [
    "\n",
    "print(\"Begin init\")\n",
    "%run -i notebook/init_notebook.ipynb\n",
    "\n",
    "\n",
    "import pandas as pd\n",
    "\n",
    "from structlog import get_logger\n",
    "from tqdm import tqdm\n",
    "\n",
    "\n",
    "from lib.model.StockModel import StockModel\n",
    "from lib.repository.FileOhlcRepository import FileOhlcRepository\n",
    "from lib.repository.SymbolRepository import SymbolRepository\n",
    "from lib.scrapper.YahooScrapper import YahooScrapper\n",
    "from datetime import datetime, timedelta\n",
    "print(\"Loading modules complete\", datetime.now())"
   ]
  },
  {
   "cell_type": "code",
   "execution_count": 2,
   "outputs": [
    {
     "data": {
      "text/plain": "                low         close          open          high        volume\ncount  75406.000000  75406.000000  75406.000000  75406.000000  7.540600e+04\nmean     222.795352    222.898161    222.898428    222.999701  3.104025e+09\nstd       15.830188     15.823068     15.822772     15.815738  8.562049e+10\nmin      196.380000    196.470000    196.455000    196.670000  1.420000e+02\n25%      210.921250    211.045250    211.050000    211.150000  3.107000e+04\n50%      216.920000    217.029500    217.030000    217.125000  4.727600e+04\n75%      233.731500    233.850000    233.860000    233.960000  7.585350e+04\nmax      262.950000    263.180000    263.190000    263.190000  5.425764e+12",
      "text/html": "<div>\n<style scoped>\n    .dataframe tbody tr th:only-of-type {\n        vertical-align: middle;\n    }\n\n    .dataframe tbody tr th {\n        vertical-align: top;\n    }\n\n    .dataframe thead th {\n        text-align: right;\n    }\n</style>\n<table border=\"1\" class=\"dataframe\">\n  <thead>\n    <tr style=\"text-align: right;\">\n      <th></th>\n      <th>low</th>\n      <th>close</th>\n      <th>open</th>\n      <th>high</th>\n      <th>volume</th>\n    </tr>\n  </thead>\n  <tbody>\n    <tr>\n      <th>count</th>\n      <td>75406.000000</td>\n      <td>75406.000000</td>\n      <td>75406.000000</td>\n      <td>75406.000000</td>\n      <td>7.540600e+04</td>\n    </tr>\n    <tr>\n      <th>mean</th>\n      <td>222.795352</td>\n      <td>222.898161</td>\n      <td>222.898428</td>\n      <td>222.999701</td>\n      <td>3.104025e+09</td>\n    </tr>\n    <tr>\n      <th>std</th>\n      <td>15.830188</td>\n      <td>15.823068</td>\n      <td>15.822772</td>\n      <td>15.815738</td>\n      <td>8.562049e+10</td>\n    </tr>\n    <tr>\n      <th>min</th>\n      <td>196.380000</td>\n      <td>196.470000</td>\n      <td>196.455000</td>\n      <td>196.670000</td>\n      <td>1.420000e+02</td>\n    </tr>\n    <tr>\n      <th>25%</th>\n      <td>210.921250</td>\n      <td>211.045250</td>\n      <td>211.050000</td>\n      <td>211.150000</td>\n      <td>3.107000e+04</td>\n    </tr>\n    <tr>\n      <th>50%</th>\n      <td>216.920000</td>\n      <td>217.029500</td>\n      <td>217.030000</td>\n      <td>217.125000</td>\n      <td>4.727600e+04</td>\n    </tr>\n    <tr>\n      <th>75%</th>\n      <td>233.731500</td>\n      <td>233.850000</td>\n      <td>233.860000</td>\n      <td>233.960000</td>\n      <td>7.585350e+04</td>\n    </tr>\n    <tr>\n      <th>max</th>\n      <td>262.950000</td>\n      <td>263.180000</td>\n      <td>263.190000</td>\n      <td>263.190000</td>\n      <td>5.425764e+12</td>\n    </tr>\n  </tbody>\n</table>\n</div>"
     },
     "execution_count": 2,
     "metadata": {},
     "output_type": "execute_result"
    }
   ],
   "source": [
    "def _get_1min_data(symbol):\n",
    "    from structlog import get_logger\n",
    "    logger = get_logger()\n",
    "    stop_date = datetime.utcnow()\n",
    "    start_date = stop_date - timedelta(days=365)\n",
    "    ohlc_repository = FileOhlcRepository(\"d:/E2/_temp/stock\", logger)\n",
    "    df_original = ohlc_repository.read_data(\"yahoo\", symbol, start_date, stop_date)\n",
    "\n",
    "    df_original = df_original[df_original['volume'] > 0]\n",
    "    return df_original\n",
    "\n",
    "\n",
    "stock = StockModel.parse(\"NASDAQ:MSFT\")\n",
    "min1_df = _get_1min_data(stock)\n",
    "min1_df.describe()"
   ],
   "metadata": {
    "collapsed": false,
    "pycharm": {
     "name": "#%%\n"
    }
   }
  },
  {
   "cell_type": "code",
   "execution_count": 73,
   "outputs": [
    {
     "name": "stdout",
     "output_type": "stream",
     "text": [
      "{'date': Timestamp('2021-05-05 18:44:00'), 'low': 1.1533311561071196, 'close': 1.153354483530839, 'open': 1.1534757861341793, 'high': 1.1536810674629094, 'volume': 7.133413598028697, \"ppo(row:'close', fast:10, slow:20, k:5)\": -0.011790979437150356}\n"
     ]
    },
    {
     "data": {
      "text/plain": "                low         close          open          high        volume  \\\ncount  74405.000000  74405.000000  74405.000000  74405.000000  74405.000000   \nmean       1.040326      1.040803      1.040803      1.041273      8.637934   \nstd        0.073931      0.073901      0.073900      0.073870      2.038441   \nmin        0.916208      0.916628      0.916558      0.917561      0.000000   \n25%        0.985210      0.985724      0.985724      0.986237      7.768557   \n50%        1.013810      1.014276      1.014276      1.014743      8.373631   \n75%        1.091187      1.091770      1.091770      1.092283      9.055378   \nmax        1.226789      1.227862      1.227909      1.227909     35.153216   \n\n       ppo(row:'close', fast:10, slow:20, k:5)  \ncount                             74405.000000  \nmean                                  0.000064  \nstd                                   0.070966  \nmin                                  -1.045313  \n25%                                  -0.029551  \n50%                                  -0.000475  \n75%                                   0.029278  \nmax                                   1.300133  ",
      "text/html": "<div>\n<style scoped>\n    .dataframe tbody tr th:only-of-type {\n        vertical-align: middle;\n    }\n\n    .dataframe tbody tr th {\n        vertical-align: top;\n    }\n\n    .dataframe thead th {\n        text-align: right;\n    }\n</style>\n<table border=\"1\" class=\"dataframe\">\n  <thead>\n    <tr style=\"text-align: right;\">\n      <th></th>\n      <th>low</th>\n      <th>close</th>\n      <th>open</th>\n      <th>high</th>\n      <th>volume</th>\n      <th>ppo(row:'close', fast:10, slow:20, k:5)</th>\n    </tr>\n  </thead>\n  <tbody>\n    <tr>\n      <th>count</th>\n      <td>74405.000000</td>\n      <td>74405.000000</td>\n      <td>74405.000000</td>\n      <td>74405.000000</td>\n      <td>74405.000000</td>\n      <td>74405.000000</td>\n    </tr>\n    <tr>\n      <th>mean</th>\n      <td>1.040326</td>\n      <td>1.040803</td>\n      <td>1.040803</td>\n      <td>1.041273</td>\n      <td>8.637934</td>\n      <td>0.000064</td>\n    </tr>\n    <tr>\n      <th>std</th>\n      <td>0.073931</td>\n      <td>0.073901</td>\n      <td>0.073900</td>\n      <td>0.073870</td>\n      <td>2.038441</td>\n      <td>0.070966</td>\n    </tr>\n    <tr>\n      <th>min</th>\n      <td>0.916208</td>\n      <td>0.916628</td>\n      <td>0.916558</td>\n      <td>0.917561</td>\n      <td>0.000000</td>\n      <td>-1.045313</td>\n    </tr>\n    <tr>\n      <th>25%</th>\n      <td>0.985210</td>\n      <td>0.985724</td>\n      <td>0.985724</td>\n      <td>0.986237</td>\n      <td>7.768557</td>\n      <td>-0.029551</td>\n    </tr>\n    <tr>\n      <th>50%</th>\n      <td>1.013810</td>\n      <td>1.014276</td>\n      <td>1.014276</td>\n      <td>1.014743</td>\n      <td>8.373631</td>\n      <td>-0.000475</td>\n    </tr>\n    <tr>\n      <th>75%</th>\n      <td>1.091187</td>\n      <td>1.091770</td>\n      <td>1.091770</td>\n      <td>1.092283</td>\n      <td>9.055378</td>\n      <td>0.029278</td>\n    </tr>\n    <tr>\n      <th>max</th>\n      <td>1.226789</td>\n      <td>1.227862</td>\n      <td>1.227909</td>\n      <td>1.227909</td>\n      <td>35.153216</td>\n      <td>1.300133</td>\n    </tr>\n  </tbody>\n</table>\n</div>"
     },
     "execution_count": 73,
     "metadata": {},
     "output_type": "execute_result"
    }
   ],
   "source": [
    "from lib.calulation.BollingerBand import BollingerBand\n",
    "from lib.calulation.PpoBuilder import PpoBuilder\n",
    "import lib.calulation.utils as ta_utils\n",
    "\n",
    "from lib.calulation.indicator_builder import build_indicatrors\n",
    "\n",
    "rocs = [] # 2, 5, 10\n",
    "property = 'close'\n",
    "indicators = [\n",
    "    # ta.VortexBuilder(14, rocs=rocs),\n",
    "    # ta.VortexBuilder(24, rocs=rocs),\n",
    "    # ta.VortexBuilder(32, rocs=rocs),\n",
    "    #\n",
    "    # ta.RsiBuilder(14, 8,  rocs=rocs),\n",
    "    # ta.RsiBuilder(24, 8,  rocs=rocs),\n",
    "    # ta.RsiBuilder(32, 8,  rocs=rocs),`\n",
    "\n",
    "    # BollingerBand(property=property, n=14, rocs=rocs),\n",
    "    # BollingerBand(property=property, n=24, rocs=rocs),\n",
    "    # BollingerBand(property=property, n=32, rocs=rocs),\n",
    "\n",
    "    PpoBuilder(slow=20, fast=10, smooth=5)\n",
    "]\n",
    "\n",
    "df = min1_df.copy()\n",
    "basic_price = df.iloc[0].low\n",
    "basic_volume = df.volume.min()\n",
    "ta_utils.normilize_data_(df, basic_price, basic_volume)\n",
    "\n",
    "\n",
    "min1_df_with_indicators = build_indicatrors(df, indicators)\n",
    "min1_df_with_indicators = min1_df_with_indicators.iloc[1000:-1] # drop warmup\n",
    "\n",
    "print(min1_df_with_indicators.iloc[-1].to_dict())\n",
    "min1_df_with_indicators.describe()"
   ],
   "metadata": {
    "collapsed": false,
    "pycharm": {
     "name": "#%%\n"
    }
   }
  },
  {
   "cell_type": "code",
   "execution_count": 74,
   "outputs": [
    {
     "data": {
      "text/plain": "<AxesSubplot:>"
     },
     "execution_count": 74,
     "metadata": {},
     "output_type": "execute_result"
    },
    {
     "data": {
      "text/plain": "<Figure size 432x288 with 1 Axes>",
      "image/png": "[encoded data removed]"
     },
     "metadata": {
      "needs_background": "light"
     },
     "output_type": "display_data"
    }
   ],
   "source": [
    "\n",
    "\n",
    "min1_df_with_indicators[\"ppo(row:'close', fast:10, slow:20, k:5)\"].hist(bins=100)\n"
   ],
   "metadata": {
    "collapsed": false,
    "pycharm": {
     "name": "#%%\n"
    }
   }
  },
  {
   "cell_type": "code",
   "execution_count": 68,
   "outputs": [],
   "source": [],
   "metadata": {
    "collapsed": false,
    "pycharm": {
     "name": "#%%\n"
    }
   }
  },
  {
   "cell_type": "code",
   "execution_count": null,
   "outputs": [],
   "source": [],
   "metadata": {
    "collapsed": false,
    "pycharm": {
     "name": "#%%\n"
    }
   }
  }
 ],
 "metadata": {
  "kernelspec": {
   "display_name": "Python 3",
   "language": "python",
   "name": "python3"
  },
  "language_info": {
   "codemirror_mode": {
    "name": "ipython",
    "version": 2
   },
   "file_extension": ".py",
   "mimetype": "text/x-python",
   "name": "python",
   "nbconvert_exporter": "python",
   "pygments_lexer": "ipython2",
   "version": "2.7.6"
  }
 },
 "nbformat": 4,
 "nbformat_minor": 0
}