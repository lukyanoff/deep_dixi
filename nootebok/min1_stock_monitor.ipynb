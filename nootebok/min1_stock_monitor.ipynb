{
 "cells": [
  {
   "cell_type": "code",
   "execution_count": 1,
   "metadata": {
    "collapsed": true
   },
   "outputs": [
    {
     "name": "stdout",
     "output_type": "stream",
     "text": [
      "Begin init\n"
     ]
    },
    {
     "data": {
      "text/plain": "<IPython.core.display.HTML object>",
      "text/html": "<style>.container { width:100% !important; }</style>"
     },
     "metadata": {},
     "output_type": "display_data"
    },
    {
     "name": "stdout",
     "output_type": "stream",
     "text": [
      "Loading modules complete 2021-06-01 14:05:14.802657\n"
     ]
    }
   ],
   "source": [
    "\n",
    "print(\"Begin init\")\n",
    "%run -i init_notebook.ipynb\n",
    "\n",
    "import pandas as pd\n",
    "import numpy as np\n",
    "import matplotlib.pyplot as plt\n",
    "from structlog import get_logger\n",
    "from tqdm import tqdm\n",
    "\n",
    "from src.model.StockModel import StockModel\n",
    "from src.repository.FileOhlcRepository import FileOhlcRepository\n",
    "from src.repository.SymbolRepository import SymbolRepository\n",
    "from src.scrapper.YahooScrapper import YahooScrapper\n",
    "from datetime import datetime, timedelta\n",
    "print(\"Loading modules complete\", datetime.now())"
   ]
  },
  {
   "cell_type": "code",
   "execution_count": null,
   "outputs": [],
   "source": [
    "from src.data_gen.dataset_generator import get_1min_data\n",
    "stock = StockModel.parse(\"NASDAQ:AAPL\")\n",
    "min1_df = get_1min_data(stock)\n",
    "min1_df.info()"
   ],
   "metadata": {
    "collapsed": false,
    "pycharm": {
     "name": "#%%\n"
    }
   }
  },
  {
   "cell_type": "code",
   "execution_count": null,
   "outputs": [],
   "source": [
    "from src.calulation.utils import calculate_scalping_for_long_fast, calculate_scalping_for_short_fast\n",
    "\n",
    "df = min1_df.copy()\n",
    "df['profit'] = calculate_scalping_for_long_fast(min1_df, 0.5/100, 0.25/100, 30)\n",
    "positive_count = len(df[df['profit']==1])\n",
    "all_count = len(df)\n",
    "print(positive_count/all_count,  positive_count, all_count)"
   ],
   "metadata": {
    "collapsed": false,
    "pycharm": {
     "name": "#%%\n"
    }
   }
  },
  {
   "cell_type": "code",
   "execution_count": 36,
   "outputs": [
    {
     "name": "stdout",
     "output_type": "stream",
     "text": [
      "<class 'pandas.core.frame.DataFrame'>\n",
      "DatetimeIndex: 2999 entries, 2021-05-11 15:50:00 to 2021-05-25 19:58:00\n",
      "Data columns (total 49 columns):\n",
      " #   Column                                            Non-Null Count  Dtype         \n",
      "---  ------                                            --------------  -----         \n",
      " 0   date                                              2999 non-null   datetime64[ns]\n",
      " 1   low                                               2999 non-null   float64       \n",
      " 2   close                                             2999 non-null   float64       \n",
      " 3   open                                              2999 non-null   float64       \n",
      " 4   high                                              2999 non-null   float64       \n",
      " 5   volume                                            2999 non-null   float64       \n",
      " 6   vortex_positive(n:14)                             2999 non-null   float64       \n",
      " 7   vortex_negative(n:14)                             2999 non-null   float64       \n",
      " 8   vortex_positive(n:24)                             2999 non-null   float64       \n",
      " 9   vortex_negative(n:24)                             2999 non-null   float64       \n",
      " 10  vortex_positive(n:32)                             2999 non-null   float64       \n",
      " 11  vortex_negative(n:32)                             2999 non-null   float64       \n",
      " 12  rsi(n:14, smooth:8)                               2999 non-null   float64       \n",
      " 13  rsi(n:24, smooth:8)                               2999 non-null   float64       \n",
      " 14  rsi(n:32, smooth:5)                               2999 non-null   float64       \n",
      " 15  BB_STDDEV(col:'close', n:14)                      2999 non-null   float64       \n",
      " 16  BB_%(col:'close', n:14)                           2999 non-null   float64       \n",
      " 17  BB_STDDEV(col:'close', n:24)                      2999 non-null   float64       \n",
      " 18  BB_%(col:'close', n:24)                           2999 non-null   float64       \n",
      " 19  BB_STDDEV(col:'close', n:32)                      2999 non-null   float64       \n",
      " 20  BB_%(col:'close', n:32)                           2999 non-null   float64       \n",
      " 21  ppo_smooth(row='close', fast=5, slow=12, k=5)     2999 non-null   float64       \n",
      " 22  ppo_smooth(row='close', fast=5, slow=24, k=5)     2999 non-null   float64       \n",
      " 23  ppo_smooth(row='close', fast=12, slow=24, k=5)    2999 non-null   float64       \n",
      " 24  ppo_smooth(row='close', fast=5, slow=32, k=5)     2999 non-null   float64       \n",
      " 25  ppo_smooth(row='close', fast=12, slow=32, k=5)    2999 non-null   float64       \n",
      " 26  ppo_smooth(row='close', fast=24, slow=32, k=5)    2999 non-null   float64       \n",
      " 27  ppo_smooth(row='close', fast=5, slow=64, k=5)     2999 non-null   float64       \n",
      " 28  ppo_smooth(row='close', fast=12, slow=64, k=5)    2999 non-null   float64       \n",
      " 29  ppo_smooth(row='close', fast=24, slow=64, k=5)    2999 non-null   float64       \n",
      " 30  ppo_smooth(row='close', fast=32, slow=64, k=5)    2999 non-null   float64       \n",
      " 31  ppo_smooth(row='close', fast=5, slow=128, k=5)    2999 non-null   float64       \n",
      " 32  ppo_smooth(row='close', fast=12, slow=128, k=5)   2999 non-null   float64       \n",
      " 33  ppo_smooth(row='close', fast=24, slow=128, k=5)   2999 non-null   float64       \n",
      " 34  ppo_smooth(row='close', fast=32, slow=128, k=5)   2999 non-null   float64       \n",
      " 35  ppo_smooth(row='close', fast=64, slow=128, k=5)   2999 non-null   float64       \n",
      " 36  ppo_smooth(row='close', fast=5, slow=256, k=5)    2999 non-null   float64       \n",
      " 37  ppo_smooth(row='close', fast=12, slow=256, k=5)   2999 non-null   float64       \n",
      " 38  ppo_smooth(row='close', fast=24, slow=256, k=5)   2999 non-null   float64       \n",
      " 39  ppo_smooth(row='close', fast=32, slow=256, k=5)   2999 non-null   float64       \n",
      " 40  ppo_smooth(row='close', fast=64, slow=256, k=5)   2999 non-null   float64       \n",
      " 41  ppo_smooth(row='close', fast=128, slow=256, k=5)  2999 non-null   float64       \n",
      " 42  ppo_smooth(row='close', fast=5, slow=512, k=5)    2999 non-null   float64       \n",
      " 43  ppo_smooth(row='close', fast=12, slow=512, k=5)   2999 non-null   float64       \n",
      " 44  ppo_smooth(row='close', fast=24, slow=512, k=5)   2999 non-null   float64       \n",
      " 45  ppo_smooth(row='close', fast=32, slow=512, k=5)   2999 non-null   float64       \n",
      " 46  ppo_smooth(row='close', fast=64, slow=512, k=5)   2999 non-null   float64       \n",
      " 47  ppo_smooth(row='close', fast=128, slow=512, k=5)  2999 non-null   float64       \n",
      " 48  ppo_smooth(row='close', fast=256, slow=512, k=5)  2999 non-null   float64       \n",
      "dtypes: datetime64[ns](1), float64(48)\n",
      "memory usage: 1.1 MB\n",
      "None\n"
     ]
    }
   ],
   "source": [
    "from src.calulation.utils import normilize_data_\n",
    "from src.data_gen.dataset_generator import get_inidicators\n",
    "\n",
    "from src.calulation.indicator_builder import build_indicatrors\n",
    "\n",
    "indicators = get_inidicators()\n",
    "\n",
    "\n",
    "df = min1_df.tail(10000).copy()\n",
    "basic_price = df.iloc[0].low\n",
    "basic_volume = df.iloc[0].volume\n",
    "normilize_data_(df, basic_price, basic_volume)\n",
    "\n",
    "min1_df_with_indicators = build_indicatrors(df, indicators)\n",
    "min1_df_with_indicators = min1_df_with_indicators.iloc[7000:-1] # drop warmup\n",
    "\n",
    "min1_df_with_indicators = min1_df_with_indicators.round(5)\n",
    "print(min1_df_with_indicators.info())"
   ],
   "metadata": {
    "collapsed": false,
    "pycharm": {
     "name": "#%%\n"
    }
   }
  },
  {
   "cell_type": "code",
   "execution_count": 38,
   "outputs": [
    {
     "name": "stderr",
     "output_type": "stream",
     "text": [
      "100%|██████████| 49/49 [00:00<00:00, 449.34it/s]"
     ]
    },
    {
     "name": "stdout",
     "output_type": "stream",
     "text": [
      "Fitting complete\n"
     ]
    },
    {
     "name": "stderr",
     "output_type": "stream",
     "text": [
      "\n"
     ]
    }
   ],
   "source": [
    "import src.calulation.utils as ta_utils\n",
    "ta_utils.fit_scalers(min1_df_with_indicators)\n",
    "print(\"Fitting complete\")\n"
   ],
   "metadata": {
    "collapsed": false,
    "pycharm": {
     "name": "#%%\n"
    }
   }
  },
  {
   "cell_type": "code",
   "execution_count": null,
   "outputs": [],
   "source": [
    "# import src.calulation.utils as ta_utils\n",
    "# min1_df_with_indicators = ta_utils.scaler_df(min1_df_with_indicators)\n",
    "# print(\"Scaling complete\")"
   ],
   "metadata": {
    "collapsed": false,
    "pycharm": {
     "name": "#%%\n"
    }
   }
  },
  {
   "cell_type": "code",
   "execution_count": null,
   "outputs": [],
   "source": [
    "# print(min1_df_with_indicators.iloc[-1].to_dict())\n",
    "raw_columns = {'date', 'low', 'close', 'high', 'open', 'volume'}\n",
    "for col in min1_df_with_indicators.columns:\n",
    "    if col in raw_columns:\n",
    "        continue\n",
    "\n",
    "    print(f\"{col}\")\n",
    "    plt.title(col)\n",
    "    min1_df_with_indicators[col].hist(bins=100)\n",
    "    plt.show()\n",
    "    print(f\"Min:{min1_df_with_indicators[col].min()}\")\n",
    "    print(f\"Max:{min1_df_with_indicators[col].max()}\")\n",
    "    abs = np.abs(min1_df_with_indicators[col])\n",
    "    print()\n",
    "    print(\"mean\", np.mean(abs))\n",
    "    print(\"75%\", np.percentile(abs, 75))\n",
    "    print(\"80%\", np.percentile(abs, 80))\n",
    "    print(\"90%\", np.percentile(abs, 99))\n",
    "    print(\"99%\", np.percentile(abs, 99))\n",
    "    print(\"*\"*100)"
   ],
   "metadata": {
    "collapsed": false,
    "pycharm": {
     "name": "#%%\n"
    }
   }
  },
  {
   "cell_type": "code",
   "execution_count": null,
   "outputs": [],
   "source": [
    "d = min1_df_with_indicators.copy()\n",
    "d.reset_index(inplace=True, drop=True)\n",
    "d[['tema(n=5)','tema(n=16)', 'tema(n=32)', 'tema(n=64)', 'tema(n=128)', 'tema(n=256)', 'tema(n=512)']].plot()"
   ],
   "metadata": {
    "collapsed": false,
    "pycharm": {
     "name": "#%%\n"
    }
   }
  },
  {
   "cell_type": "code",
   "execution_count": null,
   "outputs": [],
   "source": [
    "# min1_df_with_indicators['profit'], min1_df_with_indicators['loss'] = ta_utils.get_long_profit_and_loss(min1_df_with_indicators, l=15)\n"
   ],
   "metadata": {
    "collapsed": false,
    "pycharm": {
     "name": "#%%\n"
    }
   }
  },
  {
   "cell_type": "code",
   "execution_count": null,
   "outputs": [],
   "source": [
    "# min1_df_with_indicators['profit'].hist(bins=100)\n",
    "# plt.show()\n",
    "#\n",
    "# min1_df_with_indicators['loss'].hist(bins=100)\n",
    "# plt.show()"
   ],
   "metadata": {
    "collapsed": false,
    "pycharm": {
     "name": "#%%\n"
    }
   }
  },
  {
   "cell_type": "code",
   "execution_count": null,
   "outputs": [],
   "source": [
    "# positive = min1_df_with_indicators[min1_df_with_indicators['profit']>0.25/100]\n",
    "# print(100*len(positive)/len(min1_df_with_indicators))\n",
    "#\n",
    "# positive = min1_df_with_indicators[min1_df_with_indicators['loss']>0.5/100]\n",
    "# print(100*len(positive)/len(min1_df_with_indicators))\n",
    "#\n",
    "#\n",
    "# print(100* len(positive) / len(all_y))"
   ],
   "metadata": {
    "collapsed": false,
    "pycharm": {
     "name": "#%%\n"
    }
   }
  },
  {
   "cell_type": "code",
   "execution_count": null,
   "outputs": [],
   "source": [],
   "metadata": {
    "collapsed": false,
    "pycharm": {
     "name": "#%%\n"
    }
   }
  }
 ],
 "metadata": {
  "kernelspec": {
   "display_name": "Python 3",
   "language": "python",
   "name": "python3"
  },
  "language_info": {
   "codemirror_mode": {
    "name": "ipython",
    "version": 2
   },
   "file_extension": ".py",
   "mimetype": "text/x-python",
   "name": "python",
   "nbconvert_exporter": "python",
   "pygments_lexer": "ipython2",
   "version": "2.7.6"
  }
 },
 "nbformat": 4,
 "nbformat_minor": 0
}